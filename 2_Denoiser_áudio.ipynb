{
  "cells": [
    {
      "cell_type": "markdown",
      "metadata": {
        "id": "teOa03hSNoxW"
      },
      "source": [
        "# Instalando a função e Importando Bibliotecas\n",
        "Vamos usar agora nessa parte uma função para retirar o ruído dos áudios do nosso dataset, para posteriormente calcularmos o nosso SNRs."
      ]
    },
    {
      "cell_type": "code",
      "execution_count": null,
      "metadata": {
        "id": "Zy_t6DRvor5H"
      },
      "outputs": [],
      "source": [
        "!pip install -U denoiser"
      ]
    },
    {
      "cell_type": "code",
      "execution_count": null,
      "metadata": {
        "id": "u06gfJSqovq1"
      },
      "outputs": [],
      "source": [
        "from IPython import display as disp\n",
        "import torch\n",
        "import torchaudio\n",
        "from denoiser import pretrained\n",
        "from denoiser.dsp import convert_audio"
      ]
    },
    {
      "cell_type": "markdown",
      "metadata": {
        "id": "mJekZLxmNfk7"
      },
      "source": [
        "# Retirando os ruídos do áudio\n",
        "Aqui vamos retirar os ruídos dos nossos áudios, no caso vamos usar só a pasta dos nossos áudios originais, não vamos precisar do CSV nesse momento, vale ressaltar que vamos salvar os novos áudios em uma nova pasta."
      ]
    },
    {
      "cell_type": "code",
      "execution_count": null,
      "metadata": {
        "id": "HzJGEZUIKnli"
      },
      "outputs": [],
      "source": [
        "import torchaudio\n",
        "import os\n",
        "import glob\n",
        "import torch  # Garanta que torch esteja importado para usar torch.no_grad()\n",
        "\n",
        "# Diretório onde os arquivos de áudio originais estão localizados\n",
        "source_dir = '/content/audios' # Mude para a sua pasta com seus áudios originais\n",
        "\n",
        "# Diretório de destino para salvar os arquivos denoised\n",
        "dest_dir = '/content/drive/MyDrive/DataSet/denoised' # Altere para onde você quiser salvar os áudios sem ruido.\n",
        "os.makedirs(dest_dir, exist_ok=True)  # Cria o diretório de destino se ele não existir\n",
        "contagem_processados = 0\n",
        "# Lista todos os arquivos de áudio na pasta 'audios'\n",
        "audio_files = glob.glob(os.path.join(source_dir, '*'))\n",
        "\n",
        "# Assegure-se de que o modelo está sendo carregado na GPU\n",
        "# Usamos esse modelo para fazer essa remoção de ruído, você pode mudar caso queira.\n",
        "model = pretrained.dns64().to('cuda')\n",
        "\n",
        "for audio_path in audio_files:\n",
        "    # Constrói o caminho de destino com o mesmo nome do arquivo original\n",
        "    base_name = os.path.basename(audio_path)\n",
        "    denoised_file_path = os.path.join(dest_dir, base_name)\n",
        "\n",
        "    # Verifica se o arquivo já existe no diretório de destino\n",
        "    if os.path.exists(denoised_file_path):\n",
        "        print(f\"{contagem_processados} - Arquivo {base_name} já processado e disponível em: {denoised_file_path}\")\n",
        "        contagem_processados += 1\n",
        "        continue  # Pula para o próximo arquivo se este já foi processado\n",
        "\n",
        "    wav, sr = torchaudio.load(audio_path)\n",
        "    # Converte e move o tensor para a GPU\n",
        "    wav = convert_audio(wav.to('cuda'), sr, model.sample_rate, model.chin)\n",
        "    with torch.no_grad():\n",
        "        denoised = model(wav[None])[0]\n",
        "\n",
        "    # Salvando o áudio denoised (certifique-se de mover o tensor de volta para a CPU antes de salvar)\n",
        "    torchaudio.save(denoised_file_path, denoised.cpu(), sample_rate=model.sample_rate)\n",
        "\n",
        "    print(f\"{contagem_processados} - Arquivo denoised salvo em: {denoised_file_path}\")\n",
        "    contagem_processados += 1\n"
      ]
    },
    {
      "cell_type": "code",
      "source": [
        "# Buscamos o total de arquivos para ver se corresponde com a mesma quantidade de áudios com ruído\n",
        "num_files = len([name for name in os.listdir(source_dir) if os.path.isfile(os.path.join(source_dir, name))])\n",
        "\n",
        "print(f\"Total de arquivos no diretório '{source_dir}': {num_files}\")"
      ],
      "metadata": {
        "id": "6gQdx5gQ6V3v"
      },
      "execution_count": null,
      "outputs": []
    },
    {
      "cell_type": "code",
      "source": [
        "# Buscamos o total de arquivos para ver se corresponde com a mesma quantidade de áudios com ruído e sem ruído\n",
        "num_files = len([name for name in os.listdir(dest_dir) if os.path.isfile(os.path.join(dest_dir, name))])\n",
        "\n",
        "print(f\"Total de arquivos no diretório '{dest_dir}': {num_files}\")"
      ],
      "metadata": {
        "id": "oOLZu-SG6ZEZ"
      },
      "execution_count": null,
      "outputs": []
    }
  ],
  "metadata": {
    "colab": {
      "provenance": [],
      "gpuType": "T4"
    },
    "kernelspec": {
      "display_name": "Python 3",
      "name": "python3"
    },
    "language_info": {
      "name": "python"
    },
    "accelerator": "GPU"
  },
  "nbformat": 4,
  "nbformat_minor": 0
}