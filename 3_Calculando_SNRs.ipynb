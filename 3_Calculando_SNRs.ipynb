{
 "cells": [
  {
   "cell_type": "markdown",
   "metadata": {},
   "source": [
    "# Importando Bibliotecas"
   ]
  },
  {
   "cell_type": "code",
   "execution_count": 1,
   "metadata": {},
   "outputs": [
    {
     "name": "stdout",
     "output_type": "stream",
     "text": [
      "Requirement already satisfied: librosa in c:\\users\\carlo\\anaconda3\\lib\\site-packages (0.10.1)\n",
      "Requirement already satisfied: lazy-loader>=0.1 in c:\\users\\carlo\\anaconda3\\lib\\site-packages (from librosa) (0.4)\n",
      "Requirement already satisfied: numba>=0.51.0 in c:\\users\\carlo\\anaconda3\\lib\\site-packages (from librosa) (0.56.4)\n",
      "Requirement already satisfied: typing-extensions>=4.1.1 in c:\\users\\carlo\\anaconda3\\lib\\site-packages (from librosa) (4.4.0)\n",
      "Requirement already satisfied: scipy>=1.2.0 in c:\\users\\carlo\\anaconda3\\lib\\site-packages (from librosa) (1.10.0)\n",
      "Requirement already satisfied: numpy!=1.22.0,!=1.22.1,!=1.22.2,>=1.20.3 in c:\\users\\carlo\\anaconda3\\lib\\site-packages (from librosa) (1.23.5)\n",
      "Requirement already satisfied: soxr>=0.3.2 in c:\\users\\carlo\\anaconda3\\lib\\site-packages (from librosa) (0.3.7)\n",
      "Requirement already satisfied: decorator>=4.3.0 in c:\\users\\carlo\\anaconda3\\lib\\site-packages (from librosa) (5.1.1)\n",
      "Requirement already satisfied: scikit-learn>=0.20.0 in c:\\users\\carlo\\anaconda3\\lib\\site-packages (from librosa) (1.2.1)\n",
      "Requirement already satisfied: soundfile>=0.12.1 in c:\\users\\carlo\\anaconda3\\lib\\site-packages (from librosa) (0.12.1)\n",
      "Requirement already satisfied: joblib>=0.14 in c:\\users\\carlo\\anaconda3\\lib\\site-packages (from librosa) (1.1.1)\n",
      "Requirement already satisfied: msgpack>=1.0 in c:\\users\\carlo\\anaconda3\\lib\\site-packages (from librosa) (1.0.3)\n",
      "Requirement already satisfied: pooch>=1.0 in c:\\users\\carlo\\anaconda3\\lib\\site-packages (from librosa) (1.4.0)\n",
      "Requirement already satisfied: audioread>=2.1.9 in c:\\users\\carlo\\anaconda3\\lib\\site-packages (from librosa) (3.0.1)\n",
      "Requirement already satisfied: packaging in c:\\users\\carlo\\anaconda3\\lib\\site-packages (from lazy-loader>=0.1->librosa) (22.0)\n",
      "Requirement already satisfied: llvmlite<0.40,>=0.39.0dev0 in c:\\users\\carlo\\anaconda3\\lib\\site-packages (from numba>=0.51.0->librosa) (0.39.1)\n",
      "Requirement already satisfied: setuptools in c:\\users\\carlo\\anaconda3\\lib\\site-packages (from numba>=0.51.0->librosa) (65.6.3)\n",
      "Requirement already satisfied: appdirs in c:\\users\\carlo\\anaconda3\\lib\\site-packages (from pooch>=1.0->librosa) (1.4.4)\n",
      "Requirement already satisfied: requests in c:\\users\\carlo\\anaconda3\\lib\\site-packages (from pooch>=1.0->librosa) (2.28.1)\n",
      "Requirement already satisfied: threadpoolctl>=2.0.0 in c:\\users\\carlo\\anaconda3\\lib\\site-packages (from scikit-learn>=0.20.0->librosa) (2.2.0)\n",
      "Requirement already satisfied: cffi>=1.0 in c:\\users\\carlo\\anaconda3\\lib\\site-packages (from soundfile>=0.12.1->librosa) (1.15.1)\n",
      "Requirement already satisfied: pycparser in c:\\users\\carlo\\anaconda3\\lib\\site-packages (from cffi>=1.0->soundfile>=0.12.1->librosa) (2.21)\n",
      "Requirement already satisfied: charset-normalizer<3,>=2 in c:\\users\\carlo\\anaconda3\\lib\\site-packages (from requests->pooch>=1.0->librosa) (2.0.4)\n",
      "Requirement already satisfied: certifi>=2017.4.17 in c:\\users\\carlo\\anaconda3\\lib\\site-packages (from requests->pooch>=1.0->librosa) (2022.12.7)\n",
      "Requirement already satisfied: urllib3<1.27,>=1.21.1 in c:\\users\\carlo\\anaconda3\\lib\\site-packages (from requests->pooch>=1.0->librosa) (1.26.14)\n",
      "Requirement already satisfied: idna<4,>=2.5 in c:\\users\\carlo\\anaconda3\\lib\\site-packages (from requests->pooch>=1.0->librosa) (3.4)\n",
      "Note: you may need to restart the kernel to use updated packages.\n"
     ]
    }
   ],
   "source": [
    "pip install librosa"
   ]
  },
  {
   "cell_type": "code",
   "execution_count": 2,
   "metadata": {},
   "outputs": [],
   "source": [
    "from transformers import Wav2Vec2ForCTC, Wav2Vec2Processor\n",
    "import torch\n",
    "import librosa\n",
    "import logging\n",
    "import numpy as np"
   ]
  },
  {
   "cell_type": "markdown",
   "metadata": {},
   "source": [
    "# Importando o dataset\n",
    "Aqui é importante ressaltar que temos que adicionar o dataset que já foi atualizado e gerado no notebook *1_Model_Noise_Detection_WER.*"
   ]
  },
  {
   "cell_type": "code",
   "execution_count": 4,
   "metadata": {},
   "outputs": [],
   "source": [
    "import pandas as pd\n",
    "\n",
    "# Substitua com o caminho para o seu arquivo CSV\n",
    "csv_file = \"\\dataset_atualizado.csv\"\n",
    "\n",
    "# Carregar o dataset\n",
    "dataset = pd.read_csv(csv_file)\n"
   ]
  },
  {
   "cell_type": "markdown",
   "metadata": {},
   "source": [
    "# Calculando o SNRs\n",
    "Vamos calcular o SNRs dos áudios através dos áudios com ruído e sem ruído, para termos um bom resultado. \n",
    "\n",
    "\"Signal-to-Noise Ratios\" (Relações Sinal-Ruído), o SNRs indicam a clareza ou qualidade do sinal, onde uma SNR mais alta significa que o sinal é mais forte em comparação com o ruído de fundo, resultando em melhor qualidade de áudio ou dados.\n",
    "\n",
    "Com base no nível de SNRs, classificamos os áudios, para análises futuras.\n",
    "\n",
    "\n",
    "\n",
    "\n",
    "\n",
    "\n",
    "\n"
   ]
  },
  {
   "cell_type": "code",
   "execution_count": 6,
   "metadata": {},
   "outputs": [
    {
     "name": "stdout",
     "output_type": "stream",
     "text": [
      "Finalizada a análise de SNR e nível de ruído.\n"
     ]
    }
   ],
   "source": [
    "import os\n",
    "import pandas as pd\n",
    "import librosa\n",
    "import numpy as np\n",
    "\n",
    "# Função para calcular a relação sinal-ruído (SNR) entre dois arquivos de áudio\n",
    "def calculate_snr(reference_path, comparison_path):\n",
    "    # Carrega o sinal de referência e seu sample rate\n",
    "    reference_signal, sr_reference = librosa.load(reference_path, sr=None)\n",
    "    # Carrega o sinal de comparação e seu sample rate\n",
    "    comparison_signal, sr_comparison = librosa.load(comparison_path, sr=None)\n",
    "    \n",
    "    # Resample o sinal de comparação se os sample rates forem diferentes\n",
    "    if sr_reference != sr_comparison:\n",
    "        comparison_signal = librosa.resample(comparison_signal, orig_sr=sr_comparison, target_sr=sr_reference)\n",
    "    \n",
    "    # Calcula a diferença entre o sinal de referência e o sinal de comparação\n",
    "    difference = reference_signal - comparison_signal\n",
    "    # Calcula a potência do sinal de referência\n",
    "    reference_power = np.mean(reference_signal ** 2)\n",
    "    # Calcula a potência da diferença (ruído)\n",
    "    difference_power = np.mean(difference ** 2)\n",
    "    \n",
    "    # Verifica se os valores são válidos e evita divisão por zero\n",
    "    if reference_power > 0 and difference_power > 0:\n",
    "        # Calcula o SNR em decibéis\n",
    "        snr = 10 * np.log10(reference_power / difference_power)\n",
    "    else:\n",
    "        # Define SNR como NaN se os valores não forem válidos\n",
    "        snr = float('nan')  # ou outro valor que faça sentido no seu contexto, como 0\n",
    "    \n",
    "    return snr\n",
    "\n",
    "# Função para classificar o nível de ruído com base no SNR\n",
    "def classify_noise_level(snr):\n",
    "    if snr >= 29:\n",
    "        return \"Nenhum\"\n",
    "    elif 20 < snr <= 28:\n",
    "        return \"Pouco\"\n",
    "    elif 11 < snr <= 20:\n",
    "        return \"Médio\"\n",
    "    else:\n",
    "        return \"Muito\"\n",
    "\n",
    "# Adiciona as novas colunas ao DataFrame\n",
    "dataset['SNRs'] = None\n",
    "dataset['nível_de_ruído_SNRs'] = None\n",
    "\n",
    "# Caminhos das pastas de arquivos originais e denoised, no original_audio_dir colocamos o áudio com os ruídos\n",
    "# No denoised_audio_dir colocamos os áudios sem ruídos\n",
    "original_audio_dir = '\\original_audios'  # Substitua pelo caminho correto\n",
    "denoised_audio_dir = '\\denoised_audios'  # Substitua pelo caminho correto\n",
    "\n",
    "# Processando cada arquivo de áudio no DataFrame\n",
    "for index, row in dataset.iterrows():\n",
    "    # Obtém o ID do áudio segmentado da linha atual\n",
    "    id_audio = row['audio_segmentado']\n",
    "    # Constroi o caminho completo do arquivo de áudio original\n",
    "    original_path = os.path.join(original_audio_dir, id_audio)\n",
    "    # Constroi o caminho completo do arquivo de áudio denoised\n",
    "    denoised_path = os.path.join(denoised_audio_dir, id_audio)\n",
    "\n",
    "    # Verifica se os arquivos de áudio existem\n",
    "    if os.path.exists(original_path) and os.path.exists(denoised_path):\n",
    "        # Calcula o SNR entre o áudio original e o denoised\n",
    "        snr_value = calculate_snr(original_path, denoised_path)\n",
    "        # Classifica o nível de ruído com base no SNR\n",
    "        noise_level = classify_noise_level(snr_value)\n",
    "        # Atualiza o DataFrame com os valores calculados\n",
    "        dataset.at[index, 'SNRs'] = snr_value\n",
    "        dataset.at[index, 'nível_de_ruído_SNRs'] = noise_level\n",
    "    else:\n",
    "        # Imprime uma mensagem se um ou ambos os arquivos não forem encontrados\n",
    "        print(f\"Arquivo(s) não encontrado(s) para: {id_audio}\")\n",
    "\n",
    "# Salva o DataFrame atualizado em um arquivo CSV\n",
    "dataset.to_csv('\\dataset_atualizados_snrs.csv', index=False)  # Substitua pelo caminho desejado para o arquivo CSV\n",
    "\n",
    "print(\"Finalizada a análise de SNR e nível de ruído.\")\n"
   ]
  },
  {
   "cell_type": "markdown",
   "metadata": {},
   "source": [
    "Ao final da execução ele vai gerar um novo dataset, assim estaremos prontos para implementar a nossa análise, no próximo notebook."
   ]
  },
  {
   "cell_type": "markdown",
   "metadata": {},
   "source": []
  }
 ],
 "metadata": {
  "kernelspec": {
   "display_name": "Python 3",
   "language": "python",
   "name": "python3"
  },
  "language_info": {
   "codemirror_mode": {
    "name": "ipython",
    "version": 3
   },
   "file_extension": ".py",
   "mimetype": "text/x-python",
   "name": "python",
   "nbconvert_exporter": "python",
   "pygments_lexer": "ipython3",
   "version": "3.10.9"
  }
 },
 "nbformat": 4,
 "nbformat_minor": 2
}
